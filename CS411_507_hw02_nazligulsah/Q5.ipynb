{
  "nbformat": 4,
  "nbformat_minor": 0,
  "metadata": {
    "colab": {
      "name": "Q5.ipynb",
      "provenance": [],
      "collapsed_sections": []
    },
    "kernelspec": {
      "name": "python3",
      "display_name": "Python 3"
    },
    "language_info": {
      "name": "python"
    }
  },
  "cells": [
    {
      "cell_type": "code",
      "metadata": {
        "id": "kCVAlunjvKw1"
      },
      "source": [
        "import copy \n",
        "\n",
        "def LFSR(C, S):\n",
        "    L = len(S)\n",
        "    fb = 0\n",
        "    out = S[L-1]\n",
        "    for i in range(0,L):\n",
        "        fb = fb^(S[i]&C[i+1])\n",
        "    for i in range(L-1,0,-1):\n",
        "        S[i] = S[i-1]\n",
        "\n",
        "    S[0] = fb\n",
        "    return out\n",
        "\n",
        "def FindPeriod(s):\n",
        "    n = len(s)\n",
        "    for T in range(1,n+1):\n",
        "        chck = 0\n",
        "        for i in range(0,n-T-1):\n",
        "            if (s[i] != s[i+T]):\n",
        "                chck += 1\n",
        "                break\n",
        "        if chck == 0:\n",
        "            break\n",
        "    if T > n/2:\n",
        "        return n\n",
        "    else:\n",
        "        return T        \n",
        "\n",
        "def PolPrune(P):\n",
        "    n = len(P)\n",
        "    i = n-1\n",
        "    while (P[i] == 0):\n",
        "        del P[i]\n",
        "        i = i-1\n",
        "    return i\n",
        "\n",
        "def PolDeg(P):\n",
        "    n = len(P)\n",
        "    i = n-1\n",
        "    while (P[i] == 0):\n",
        "        i = i-1\n",
        "    return i\n",
        "\n",
        "# P gets Q\n",
        "def PolCopy(Q, P):\n",
        "    degP = len(P)\n",
        "    degQ = len(Q)\n",
        "    if degP >= degQ:\n",
        "        for i in range(0,degQ):\n",
        "            Q[i] = P[i]\n",
        "        for i in range(degQ, degP):\n",
        "            Q.append(P[i])\n",
        "    else: # degP < deqQ\n",
        "        for i in range(0,degP):\n",
        "            Q[i] = P[i]\n",
        "        for i in range(degP, degQ):\n",
        "            Q[i] = 0\n",
        "        PolPrune(Q)           \n",
        "\n",
        "def BM(s):\n",
        "    n = len(s)\n",
        "\n",
        "    C = []\n",
        "    B = []\n",
        "    T = []\n",
        "    L = 0\n",
        "    m = -1\n",
        "    i = 0\n",
        "    C.append(1)\n",
        "    B.append(1)\n",
        "\n",
        "    while(i<n):\n",
        "        delta = 0\n",
        "        clen = len(C)\n",
        "        for j in range(0, clen):\n",
        "            delta ^= (C[j]*s[i-j])\n",
        "        if delta == 1:\n",
        "            dif = i-m\n",
        "            PolCopy(T, C)\n",
        "            nlen = len(B)+dif\n",
        "            if(clen >= nlen):\n",
        "                for j in range(dif,nlen):\n",
        "                    C[j] = C[j] ^ B[j-dif]\n",
        "            else: # increase the degree of C\n",
        "                for j in range(clen, nlen):\n",
        "                    C.append(0)\n",
        "                for j in range(dif, nlen):\n",
        "                    C[j] = C[j] ^ B[j-dif]\n",
        "            PolPrune(C)\n",
        "            if L <= i/2:\n",
        "                L = i+1-L\n",
        "                m = i\n",
        "                PolCopy(B, T)  \n",
        "        i = i+1    \n",
        "    return L, C"
      ],
      "execution_count": null,
      "outputs": []
    },
    {
      "cell_type": "code",
      "metadata": {
        "colab": {
          "base_uri": "https://localhost:8080/",
          "height": 37
        },
        "id": "oPPEmr3TvxnU",
        "outputId": "eb105098-b311-4f8c-b3b9-6ceb025db7ec"
      },
      "source": [
        "\"\"\"p1= x^5 + x2 + \n",
        "p2= x^5 + x^3 + x^2 + 1\"\"\""
      ],
      "execution_count": null,
      "outputs": [
        {
          "output_type": "execute_result",
          "data": {
            "application/vnd.google.colaboratory.intrinsic+json": {
              "type": "string"
            },
            "text/plain": [
              "'p1= x^5 + x2 + \\np2= x^5 + x^3 + x^2 + 1'"
            ]
          },
          "metadata": {},
          "execution_count": 2
        }
      ]
    },
    {
      "cell_type": "code",
      "metadata": {
        "colab": {
          "base_uri": "https://localhost:8080/"
        },
        "id": "57Ne4MDX5llY",
        "outputId": "ebbff51c-fe90-439f-ccb4-3f803f8f234b"
      },
      "source": [
        "import random\n",
        "length = 256\n",
        "\n",
        "print (\"LFSR: x^5 + x^2 + 1\")\n",
        "L = 5\n",
        "C = [0]*(L+1)\n",
        "S = [0]*L\n",
        "    \n",
        "C[2] = C[5] = 1\n",
        "\n",
        "for i in range(0,L):            # for random initial state\n",
        "    S[i] = random.randint(0, 1)\n",
        "print (\"Initial state: \", S) \n",
        "\n",
        "keystream = [0]*length\n",
        "for i in range(0,length):\n",
        "     keystream[i] = LFSR(C, S)\n",
        "  \n",
        "print (\"First period: \", FindPeriod(keystream))\n",
        "print (\"L and C(x): \", BM(keystream))\n",
        "print (\"keystream: \", keystream)\n",
        "\n",
        "#max. period 2^L-1 = 2^5-1 = 31\n",
        "#since fist period = max. period answer is yes"
      ],
      "execution_count": null,
      "outputs": [
        {
          "output_type": "stream",
          "name": "stdout",
          "text": [
            "LFSR: x^5 + x^2 + 1\n",
            "Initial state:  [1, 1, 1, 1, 0]\n",
            "First period:  31\n",
            "L and C(x):  (5, [1, 0, 1, 0, 0, 1])\n",
            "keystream:  [0, 1, 1, 1, 1, 1, 0, 0, 1, 1, 0, 1, 0, 0, 1, 0, 0, 0, 0, 1, 0, 1, 0, 1, 1, 1, 0, 1, 1, 0, 0, 0, 1, 1, 1, 1, 1, 0, 0, 1, 1, 0, 1, 0, 0, 1, 0, 0, 0, 0, 1, 0, 1, 0, 1, 1, 1, 0, 1, 1, 0, 0, 0, 1, 1, 1, 1, 1, 0, 0, 1, 1, 0, 1, 0, 0, 1, 0, 0, 0, 0, 1, 0, 1, 0, 1, 1, 1, 0, 1, 1, 0, 0, 0, 1, 1, 1, 1, 1, 0, 0, 1, 1, 0, 1, 0, 0, 1, 0, 0, 0, 0, 1, 0, 1, 0, 1, 1, 1, 0, 1, 1, 0, 0, 0, 1, 1, 1, 1, 1, 0, 0, 1, 1, 0, 1, 0, 0, 1, 0, 0, 0, 0, 1, 0, 1, 0, 1, 1, 1, 0, 1, 1, 0, 0, 0, 1, 1, 1, 1, 1, 0, 0, 1, 1, 0, 1, 0, 0, 1, 0, 0, 0, 0, 1, 0, 1, 0, 1, 1, 1, 0, 1, 1, 0, 0, 0, 1, 1, 1, 1, 1, 0, 0, 1, 1, 0, 1, 0, 0, 1, 0, 0, 0, 0, 1, 0, 1, 0, 1, 1, 1, 0, 1, 1, 0, 0, 0, 1, 1, 1, 1, 1, 0, 0, 1, 1, 0, 1, 0, 0, 1, 0, 0, 0, 0, 1, 0, 1, 0, 1, 1, 1, 0, 1, 1, 0, 0, 0, 1, 1, 1, 1, 1, 0, 0]\n"
          ]
        }
      ]
    },
    {
      "cell_type": "code",
      "metadata": {
        "colab": {
          "base_uri": "https://localhost:8080/"
        },
        "id": "Np0CqE3A7BSu",
        "outputId": "7292b509-ba8d-45b8-ed0d-269bf1725af2"
      },
      "source": [
        "import random\n",
        "length = 256\n",
        "\n",
        "print (\"LFSR: x^5 +x^3 + x^2 + 1\")\n",
        "L2 = 5\n",
        "C2 = [0]*(2*L2+1)\n",
        "S2 = [0]*L2\n",
        "   \n",
        "C2[2] = C2[3]= C2[5] = 1\n",
        "\n",
        "for i in range(0,L2):            # for random initial state\n",
        "    S2[i] = random.randint(0, 1)\n",
        "print (\"Initial state: \", S2) \n",
        "\n",
        "keystream2 = [0]*length\n",
        "for i in range(0,length):\n",
        "     keystream2[i] = LFSR(C2, S2)\n",
        "\n",
        "print (\"First period: \", FindPeriod(keystream2))\n",
        "print (\"L2 and C2(x): \", BM(keystream2))\n",
        "print (\"keystream2: \", keystream2)\n",
        " \n",
        "#max. period 2^L-1 = 2^5-1 = 31\n",
        "#since fist period != max. period answer is no"
      ],
      "execution_count": null,
      "outputs": [
        {
          "output_type": "stream",
          "name": "stdout",
          "text": [
            "LFSR: x^5 +x^3 + x^2 + 1\n",
            "Initial state:  [0, 0, 0, 0, 1]\n",
            "First period:  12\n",
            "L2 and C2(x):  (5, [1, 0, 1, 1, 0, 1])\n",
            "keystream2:  [1, 0, 0, 0, 0, 1, 0, 1, 1, 1, 1, 0, 1, 0, 0, 0, 0, 1, 0, 1, 1, 1, 1, 0, 1, 0, 0, 0, 0, 1, 0, 1, 1, 1, 1, 0, 1, 0, 0, 0, 0, 1, 0, 1, 1, 1, 1, 0, 1, 0, 0, 0, 0, 1, 0, 1, 1, 1, 1, 0, 1, 0, 0, 0, 0, 1, 0, 1, 1, 1, 1, 0, 1, 0, 0, 0, 0, 1, 0, 1, 1, 1, 1, 0, 1, 0, 0, 0, 0, 1, 0, 1, 1, 1, 1, 0, 1, 0, 0, 0, 0, 1, 0, 1, 1, 1, 1, 0, 1, 0, 0, 0, 0, 1, 0, 1, 1, 1, 1, 0, 1, 0, 0, 0, 0, 1, 0, 1, 1, 1, 1, 0, 1, 0, 0, 0, 0, 1, 0, 1, 1, 1, 1, 0, 1, 0, 0, 0, 0, 1, 0, 1, 1, 1, 1, 0, 1, 0, 0, 0, 0, 1, 0, 1, 1, 1, 1, 0, 1, 0, 0, 0, 0, 1, 0, 1, 1, 1, 1, 0, 1, 0, 0, 0, 0, 1, 0, 1, 1, 1, 1, 0, 1, 0, 0, 0, 0, 1, 0, 1, 1, 1, 1, 0, 1, 0, 0, 0, 0, 1, 0, 1, 1, 1, 1, 0, 1, 0, 0, 0, 0, 1, 0, 1, 1, 1, 1, 0, 1, 0, 0, 0, 0, 1, 0, 1, 1, 1, 1, 0, 1, 0, 0, 0, 0, 1, 0, 1, 1, 1, 1, 0, 1, 0, 0, 0]\n"
          ]
        }
      ]
    }
  ]
}