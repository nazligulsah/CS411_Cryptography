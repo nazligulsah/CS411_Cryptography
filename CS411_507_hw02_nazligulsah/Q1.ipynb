{
  "nbformat": 4,
  "nbformat_minor": 0,
  "metadata": {
    "colab": {
      "name": "Q1.ipynb",
      "provenance": []
    },
    "kernelspec": {
      "name": "python3",
      "display_name": "Python 3"
    },
    "language_info": {
      "name": "python"
    }
  },
  "cells": [
    {
      "cell_type": "code",
      "metadata": {
        "id": "g5wgRilcEt2v"
      },
      "source": [
        "import random\n",
        "import requests\n",
        "\n",
        "#API_URL = 'http://10.36.52.109:6000'\n",
        "API_URL = 'http://cryptlygos.pythonanywhere.com'\n",
        "\n",
        "my_id = 26392 \n",
        "\n",
        "def getQ1():\n",
        "  endpoint = '{}/{}/{}'.format(API_URL, \"Q1\", my_id )\n",
        "  response = requests.get(endpoint) \t\n",
        "  if response.ok:\t\n",
        "    res = response.json()\n",
        "    print(res)\n",
        "    n, t = res['n'], res['t']\n",
        "    return n,t\n",
        "  else: print(response.json())"
      ],
      "execution_count": null,
      "outputs": []
    },
    {
      "cell_type": "code",
      "metadata": {
        "id": "JLskh63lEznV"
      },
      "source": [
        "def checkQ1a(order):   #check your answer for Question 1 part a\n",
        "  endpoint = '{}/{}/{}/{}'.format(API_URL, \"checkQ1a\", my_id, order)\n",
        "  response = requests.put(endpoint) \t\n",
        "  print(response.json())\n"
      ],
      "execution_count": null,
      "outputs": []
    },
    {
      "cell_type": "code",
      "metadata": {
        "colab": {
          "base_uri": "https://localhost:8080/"
        },
        "id": "CYWyOcMcE5lr",
        "outputId": "67738820-7445-4742-c9a5-fbd4c92a3ede"
      },
      "source": [
        "getQ1()"
      ],
      "execution_count": null,
      "outputs": [
        {
          "output_type": "stream",
          "name": "stdout",
          "text": [
            "{'n': 271, 't': 27}\n"
          ]
        },
        {
          "output_type": "execute_result",
          "data": {
            "text/plain": [
              "(271, 27)"
            ]
          },
          "metadata": {},
          "execution_count": 5
        }
      ]
    },
    {
      "cell_type": "code",
      "metadata": {
        "id": "eZIIQ5VfKf1n"
      },
      "source": [
        "def gcd(a, b):\n",
        "    \"\"\"Calculate the Greatest Common Divisor of a and b.\n",
        "\n",
        "    Unless b==0, the result will have the same sign as b (so that when\n",
        "    b is divided by it, the result comes out positive).\n",
        "    \"\"\"\n",
        "    while b:\n",
        "        a, b = b, a%b\n",
        "    return a"
      ],
      "execution_count": null,
      "outputs": []
    },
    {
      "cell_type": "code",
      "metadata": {
        "colab": {
          "base_uri": "https://localhost:8080/"
        },
        "id": "P5WbhNX-OFg2",
        "outputId": "90880aac-6884-4f62-f01c-ae245f5dcc11"
      },
      "source": [
        "#finding prime number of element n = 271\n",
        "#length of array give us how many prime number of 271\n",
        "\n",
        "arr = []\n",
        "def prime():\n",
        "  for i in range(1, 271):\n",
        "      num = gcd(i,271)\n",
        "      if num == 1:\n",
        "          arr.append(i)\n",
        "  return len(arr)  \n",
        "\n",
        "order = prime()\n",
        "print(order)\n",
        "\n",
        "checkQ1a(order)"
      ],
      "execution_count": null,
      "outputs": [
        {
          "output_type": "stream",
          "name": "stdout",
          "text": [
            "270\n",
            "Congrats!\n"
          ]
        }
      ]
    },
    {
      "cell_type": "code",
      "metadata": {
        "id": "Be7XNUAHT41u"
      },
      "source": [
        "def checkQ1b(g):  #check your answer for Question 1 part b\n",
        "  endpoint = '{}/{}/{}/{}'.format(API_URL, \"checkQ1b\", my_id, g )\t#gH is generator of your subgroup\n",
        "  response = requests.put(endpoint) \t#check result\n",
        "  print(response.json())"
      ],
      "execution_count": null,
      "outputs": []
    },
    {
      "cell_type": "code",
      "metadata": {
        "colab": {
          "base_uri": "https://localhost:8080/"
        },
        "id": "h493Q7pDdNff",
        "outputId": "b159eefe-7bf9-462c-ef6c-161ed775a502"
      },
      "source": [
        "generator = []\n",
        "\n",
        "for k in range(0,order):\n",
        "    gen_k = []\n",
        "    for m in range(1,order+1):\n",
        "        t = arr[k]**m % 271 #pow(arr[k],m,271) when I tried my code is given errror but they are same \n",
        "        if t not in gen_k:\n",
        "            t = arr[k]**m % 271 #pow(arr[k],m,271)\n",
        "            gen_k.append(t)\n",
        "    gen_k.sort()\n",
        "    if len(gen_k) == len(arr):\n",
        "        generator.append(arr[k])\n",
        "        gen_k.append(arr[k])\n",
        "print(\"Generator:\")\n",
        "print(generator)\n",
        "\n",
        "\n"
      ],
      "execution_count": null,
      "outputs": [
        {
          "output_type": "stream",
          "name": "stdout",
          "text": [
            "Generator:\n",
            "[6, 15, 21, 26, 38, 42, 43, 46, 48, 51, 52, 58, 59, 66, 71, 73, 75, 76, 91, 92, 94, 95, 96, 97, 101, 107, 108, 109, 116, 118, 120, 133, 135, 137, 142, 143, 147, 149, 150, 159, 161, 168, 172, 182, 186, 189, 193, 197, 201, 203, 204, 208, 209, 210, 215, 218, 221, 222, 226, 231, 234, 235, 249, 251, 253, 254, 255, 257, 260, 264, 267, 269]\n"
          ]
        }
      ]
    },
    {
      "cell_type": "code",
      "metadata": {
        "colab": {
          "base_uri": "https://localhost:8080/"
        },
        "id": "9-g60t-Lf8f3",
        "outputId": "2c7a9fd9-c38c-4daf-d4dd-45eab24482fb"
      },
      "source": [
        "gen_len= len(generator)\n",
        "print(gen_len)\n",
        "count = 1\n",
        "for i in range(0,gen_len-1):\n",
        "  checkQ1b(generator[i])\n",
        "  count = count + 1\n",
        "print(\"number of cograts!\")\n",
        "print(count)"
      ],
      "execution_count": null,
      "outputs": [
        {
          "output_type": "stream",
          "name": "stdout",
          "text": [
            "72\n",
            "Congrats!\n",
            "Congrats!\n",
            "Congrats!\n",
            "Congrats!\n",
            "Congrats!\n",
            "Congrats!\n",
            "Congrats!\n",
            "Congrats!\n",
            "Congrats!\n",
            "Congrats!\n",
            "Congrats!\n",
            "Congrats!\n",
            "Congrats!\n",
            "Congrats!\n",
            "Congrats!\n",
            "Congrats!\n",
            "Congrats!\n",
            "Congrats!\n",
            "Congrats!\n",
            "Congrats!\n",
            "Congrats!\n",
            "Congrats!\n",
            "Congrats!\n",
            "Congrats!\n",
            "Congrats!\n",
            "Congrats!\n",
            "Congrats!\n",
            "Congrats!\n",
            "Congrats!\n",
            "Congrats!\n",
            "Congrats!\n",
            "Congrats!\n",
            "Congrats!\n",
            "Congrats!\n",
            "Congrats!\n",
            "Congrats!\n",
            "Congrats!\n",
            "Congrats!\n",
            "Congrats!\n",
            "Congrats!\n",
            "Congrats!\n",
            "Congrats!\n",
            "Congrats!\n",
            "Congrats!\n",
            "Congrats!\n",
            "Congrats!\n",
            "Congrats!\n",
            "Congrats!\n",
            "Congrats!\n",
            "Congrats!\n",
            "Congrats!\n",
            "Congrats!\n",
            "Congrats!\n",
            "Congrats!\n",
            "Congrats!\n",
            "Congrats!\n",
            "Congrats!\n",
            "Congrats!\n",
            "Congrats!\n",
            "Congrats!\n",
            "Congrats!\n",
            "Congrats!\n",
            "Congrats!\n",
            "Congrats!\n",
            "Congrats!\n",
            "Congrats!\n",
            "Congrats!\n",
            "Congrats!\n",
            "Congrats!\n",
            "Congrats!\n",
            "Congrats!\n",
            "number of cograts!\n",
            "72\n"
          ]
        }
      ]
    },
    {
      "cell_type": "code",
      "metadata": {
        "id": "MqnJEiX7g3Hg"
      },
      "source": [
        "def checkQ1c(gH):  #check your answer for Question 1 part c\n",
        "  endpoint = '{}/{}/{}/{}'.format(API_URL, \"checkQ1c\", my_id, gH )\t#gH is generator of your subgroup\n",
        "  response = requests.put(endpoint) \t#check result\n",
        "  print(response.json())"
      ],
      "execution_count": null,
      "outputs": []
    },
    {
      "cell_type": "code",
      "metadata": {
        "id": "TIPZm2RshDVW"
      },
      "source": [
        "\n"
      ],
      "execution_count": null,
      "outputs": []
    },
    {
      "cell_type": "code",
      "metadata": {
        "colab": {
          "base_uri": "https://localhost:8080/"
        },
        "id": "yquNoC3AycV0",
        "outputId": "ece7686c-2630-4310-c623-bad8c68b3e85"
      },
      "source": [
        "p=271\n",
        "t=27\n",
        "\n",
        "order_list = []\n",
        "for i in range(1,p):\n",
        "    if (p-1) % i == 0:\n",
        "      order_list.append(i)\n",
        "print(\"order list\" , order_list)\n",
        "\n",
        "def findPowerGroup(p, t):\n",
        "  myList = []\n",
        "  for power in range(1, p):\n",
        "    a = pow(t,power,p)\n",
        "    if a != 1 and a not in myList :\n",
        "      myList.append(a)\n",
        "    else:\n",
        "      myList.append(1)\n",
        "      break \n",
        " \n",
        "  return myList\n",
        "\n",
        "for order in order_list:\n",
        "  if len(findPowerGroup(p, order)) == t:\n",
        "    print(order,\" is generetor of the subgroup \" ,t) "
      ],
      "execution_count": null,
      "outputs": [
        {
          "output_type": "stream",
          "name": "stdout",
          "text": [
            "order list [1, 2, 3, 5, 6, 9, 10, 15, 18, 27, 30, 45, 54, 90, 135, 270]\n",
            "5  is generetor of the subgroup  27\n"
          ]
        }
      ]
    },
    {
      "cell_type": "code",
      "metadata": {
        "colab": {
          "base_uri": "https://localhost:8080/"
        },
        "id": "unY2-OTmt0vF",
        "outputId": "1a71c702-b588-419a-c53f-b90486cc4d74"
      },
      "source": [
        "checkQ1c(5)"
      ],
      "execution_count": null,
      "outputs": [
        {
          "output_type": "stream",
          "name": "stdout",
          "text": [
            "Congrats!\n"
          ]
        }
      ]
    }
  ]
}