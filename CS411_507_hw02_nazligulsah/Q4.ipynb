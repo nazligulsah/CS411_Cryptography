{
  "nbformat": 4,
  "nbformat_minor": 0,
  "metadata": {
    "colab": {
      "name": "Q4.ipynb",
      "provenance": []
    },
    "kernelspec": {
      "name": "python3",
      "display_name": "Python 3"
    },
    "language_info": {
      "name": "python"
    }
  },
  "cells": [
    {
      "cell_type": "code",
      "metadata": {
        "id": "jhzdfOKPs5wV"
      },
      "source": [
        "import math\n",
        "import random\n",
        "import warnings\n",
        "import sympy\n",
        "\n",
        "def gcd(a, b):\n",
        "    \"\"\"Calculate the Greatest Common Divisor of a and b.\n",
        "\n",
        "    Unless b==0, the result will have the same sign as b (so that when\n",
        "    b is divided by it, the result comes out positive).\n",
        "    \"\"\"\n",
        "    while b:\n",
        "        a, b = b, a%b\n",
        "    return a\n",
        "\n",
        "def egcd(a, b):\n",
        "    x,y, u,v = 0,1, 1,0\n",
        "    while a != 0:\n",
        "        q, r = b//a, b%a\n",
        "        m, n = x-u*q, y-v*q\n",
        "        b,a, x,y, u,v = a,r, u,v, m,n\n",
        "    gcd = b\n",
        "    return gcd, x, y\n",
        "\n",
        "def modinv(a, m):\n",
        "    gcd, x, y = egcd(a, m)\n",
        "    if gcd != 1:\n",
        "        return None  # modular inverse does not exist\n",
        "    else:\n",
        "        return x % m\n",
        "      \n"
      ],
      "execution_count": null,
      "outputs": []
    },
    {
      "cell_type": "code",
      "metadata": {
        "colab": {
          "base_uri": "https://localhost:8080/"
        },
        "id": "ipSQhnGitymS",
        "outputId": "b4cb62b0-4975-46e6-eeb1-66f6554e6430"
      },
      "source": [
        "n1 = 100433627766186892221372630785266819260148210527888287465731 \n",
        "a1 = 336819975970284283819362806770432444188296307667557062083973 \n",
        "b1 = 25245096981323746816663608120290190011570612722965465081317\n",
        "\n",
        "print(gcd(a1,n1)) # exactly one solution\n",
        "\n",
        "z1=modinv(a1,n1)\n",
        "print(z1)"
      ],
      "execution_count": null,
      "outputs": [
        {
          "output_type": "stream",
          "name": "stdout",
          "text": [
            "1\n",
            "25245096981323746816663608120290190011570612722965465081317\n"
          ]
        }
      ]
    },
    {
      "cell_type": "code",
      "metadata": {
        "colab": {
          "base_uri": "https://localhost:8080/"
        },
        "id": "DIrYcpYQuBuw",
        "outputId": "90f31c0b-ac7c-4d3d-f84a-c58e3377a0ef"
      },
      "source": [
        "n2 = 301300883298560676664117892355800457780444631583664862397193 \n",
        "a2 = 1070400563622371146605725585064882995936005838597136294785034 \n",
        "b2 = 1267565499436628521023818343520287296453722217373643204657115\n",
        "\n",
        "\n",
        "print(gcd(a2,n2)) #not 1 so check b is divisible by 3\n",
        "d = gcd(a2,n2)\n",
        "if b2 % d == 0:\n",
        "  print(\"it has 3 solution\")\n",
        "else :\n",
        "  print(\"it has no solution\")\n",
        "z2=modinv(a2,n2)\n",
        "print(z2)"
      ],
      "execution_count": null,
      "outputs": [
        {
          "output_type": "stream",
          "name": "stdout",
          "text": [
            "3\n",
            "it has no solution\n",
            "None\n"
          ]
        }
      ]
    },
    {
      "cell_type": "code",
      "metadata": {
        "colab": {
          "base_uri": "https://localhost:8080/"
        },
        "id": "M7Ww2CdMuCI3",
        "outputId": "133703a1-2922-4b04-a504-9100284c03fb"
      },
      "source": [
        "n3 = 301300883298560676664117892355800457780444631583664862397193 \n",
        "a3 = 608240182465796871639779713869214713721438443863110678327134 \n",
        "b3 = 721959177061605729962797351110052890685661147676448969745292\n",
        "\n",
        "print(gcd(a3,n3))\n",
        "d2  = gcd(a2,n2)\n",
        "if b3 % d2 == 0:\n",
        "  print(\"it has 3 solution\")\n",
        "else :\n",
        "  print(\"it has no solution\")\n",
        "z3 = modinv(a3,n3)\n",
        "print(z3)\n"
      ],
      "execution_count": 5,
      "outputs": [
        {
          "output_type": "stream",
          "name": "stdout",
          "text": [
            "3\n",
            "it has 3 solution\n",
            "None\n"
          ]
        }
      ]
    },
    {
      "cell_type": "code",
      "metadata": {
        "colab": {
          "base_uri": "https://localhost:8080/"
        },
        "id": "aaxZ38CtupeS",
        "outputId": "482c3017-5078-4243-a398-3f12ca19da5e"
      },
      "source": [
        "#find solution for a\n",
        "x=(b1*z1)% n1\n",
        "print(x)"
      ],
      "execution_count": null,
      "outputs": [
        {
          "output_type": "stream",
          "name": "stdout",
          "text": [
            "56884393062303769019751445983612369117060043083722821988604\n"
          ]
        }
      ]
    },
    {
      "cell_type": "code",
      "metadata": {
        "colab": {
          "base_uri": "https://localhost:8080/"
        },
        "id": "sJaWA9LTrvue",
        "outputId": "d99ea097-9bab-4869-aa5b-c1433150dd8d"
      },
      "source": [
        "#find solution for c\n",
        "solution = []\n",
        "a = modinv(a3//d2, n3)\n",
        "m = (a * (b3//d2)) % (n3//d2)\n",
        "for i in range(0, d2):\n",
        "   solution.append(m + i*(n3//d2))\n",
        "print(\"solution set:\",solution)"
      ],
      "execution_count": 10,
      "outputs": [
        {
          "output_type": "stream",
          "name": "stdout",
          "text": [
            "solution set: [9609279374756105288427021898499890361717105145551739027963, 110042907140942997509799652683766709621865315673440026493694, 210476534907129889731172283469033528882013526201328313959425]\n"
          ]
        }
      ]
    }
  ]
}