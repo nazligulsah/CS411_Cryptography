{
  "nbformat": 4,
  "nbformat_minor": 0,
  "metadata": {
    "colab": {
      "name": "Q3.ipynb",
      "provenance": []
    },
    "kernelspec": {
      "name": "python3",
      "display_name": "Python 3"
    },
    "language_info": {
      "name": "python"
    }
  },
  "cells": [
    {
      "cell_type": "code",
      "metadata": {
        "colab": {
          "base_uri": "https://localhost:8080/"
        },
        "id": "QAzhkSodVRnO",
        "outputId": "e5cbc9ac-87bf-459c-e3c4-99a5b6b0ce74"
      },
      "source": [
        "!pip install pycryptodome\n"
      ],
      "execution_count": null,
      "outputs": [
        {
          "output_type": "stream",
          "name": "stdout",
          "text": [
            "Collecting pycryptodome\n",
            "  Downloading pycryptodome-3.11.0-cp35-abi3-manylinux2010_x86_64.whl (1.9 MB)\n",
            "\u001b[?25l\r\u001b[K     |▏                               | 10 kB 24.3 MB/s eta 0:00:01\r\u001b[K     |▍                               | 20 kB 29.1 MB/s eta 0:00:01\r\u001b[K     |▌                               | 30 kB 12.8 MB/s eta 0:00:01\r\u001b[K     |▊                               | 40 kB 9.4 MB/s eta 0:00:01\r\u001b[K     |▉                               | 51 kB 5.4 MB/s eta 0:00:01\r\u001b[K     |█                               | 61 kB 5.9 MB/s eta 0:00:01\r\u001b[K     |█▏                              | 71 kB 5.7 MB/s eta 0:00:01\r\u001b[K     |█▍                              | 81 kB 6.4 MB/s eta 0:00:01\r\u001b[K     |█▌                              | 92 kB 4.9 MB/s eta 0:00:01\r\u001b[K     |█▊                              | 102 kB 5.3 MB/s eta 0:00:01\r\u001b[K     |█▉                              | 112 kB 5.3 MB/s eta 0:00:01\r\u001b[K     |██                              | 122 kB 5.3 MB/s eta 0:00:01\r\u001b[K     |██▏                             | 133 kB 5.3 MB/s eta 0:00:01\r\u001b[K     |██▍                             | 143 kB 5.3 MB/s eta 0:00:01\r\u001b[K     |██▌                             | 153 kB 5.3 MB/s eta 0:00:01\r\u001b[K     |██▊                             | 163 kB 5.3 MB/s eta 0:00:01\r\u001b[K     |██▉                             | 174 kB 5.3 MB/s eta 0:00:01\r\u001b[K     |███                             | 184 kB 5.3 MB/s eta 0:00:01\r\u001b[K     |███▏                            | 194 kB 5.3 MB/s eta 0:00:01\r\u001b[K     |███▍                            | 204 kB 5.3 MB/s eta 0:00:01\r\u001b[K     |███▌                            | 215 kB 5.3 MB/s eta 0:00:01\r\u001b[K     |███▊                            | 225 kB 5.3 MB/s eta 0:00:01\r\u001b[K     |███▉                            | 235 kB 5.3 MB/s eta 0:00:01\r\u001b[K     |████                            | 245 kB 5.3 MB/s eta 0:00:01\r\u001b[K     |████▏                           | 256 kB 5.3 MB/s eta 0:00:01\r\u001b[K     |████▍                           | 266 kB 5.3 MB/s eta 0:00:01\r\u001b[K     |████▋                           | 276 kB 5.3 MB/s eta 0:00:01\r\u001b[K     |████▊                           | 286 kB 5.3 MB/s eta 0:00:01\r\u001b[K     |█████                           | 296 kB 5.3 MB/s eta 0:00:01\r\u001b[K     |█████                           | 307 kB 5.3 MB/s eta 0:00:01\r\u001b[K     |█████▎                          | 317 kB 5.3 MB/s eta 0:00:01\r\u001b[K     |█████▍                          | 327 kB 5.3 MB/s eta 0:00:01\r\u001b[K     |█████▋                          | 337 kB 5.3 MB/s eta 0:00:01\r\u001b[K     |█████▊                          | 348 kB 5.3 MB/s eta 0:00:01\r\u001b[K     |██████                          | 358 kB 5.3 MB/s eta 0:00:01\r\u001b[K     |██████                          | 368 kB 5.3 MB/s eta 0:00:01\r\u001b[K     |██████▎                         | 378 kB 5.3 MB/s eta 0:00:01\r\u001b[K     |██████▍                         | 389 kB 5.3 MB/s eta 0:00:01\r\u001b[K     |██████▋                         | 399 kB 5.3 MB/s eta 0:00:01\r\u001b[K     |██████▊                         | 409 kB 5.3 MB/s eta 0:00:01\r\u001b[K     |███████                         | 419 kB 5.3 MB/s eta 0:00:01\r\u001b[K     |███████                         | 430 kB 5.3 MB/s eta 0:00:01\r\u001b[K     |███████▎                        | 440 kB 5.3 MB/s eta 0:00:01\r\u001b[K     |███████▍                        | 450 kB 5.3 MB/s eta 0:00:01\r\u001b[K     |███████▋                        | 460 kB 5.3 MB/s eta 0:00:01\r\u001b[K     |███████▊                        | 471 kB 5.3 MB/s eta 0:00:01\r\u001b[K     |████████                        | 481 kB 5.3 MB/s eta 0:00:01\r\u001b[K     |████████                        | 491 kB 5.3 MB/s eta 0:00:01\r\u001b[K     |████████▎                       | 501 kB 5.3 MB/s eta 0:00:01\r\u001b[K     |████████▍                       | 512 kB 5.3 MB/s eta 0:00:01\r\u001b[K     |████████▋                       | 522 kB 5.3 MB/s eta 0:00:01\r\u001b[K     |████████▊                       | 532 kB 5.3 MB/s eta 0:00:01\r\u001b[K     |█████████                       | 542 kB 5.3 MB/s eta 0:00:01\r\u001b[K     |█████████▏                      | 552 kB 5.3 MB/s eta 0:00:01\r\u001b[K     |█████████▎                      | 563 kB 5.3 MB/s eta 0:00:01\r\u001b[K     |█████████▌                      | 573 kB 5.3 MB/s eta 0:00:01\r\u001b[K     |█████████▋                      | 583 kB 5.3 MB/s eta 0:00:01\r\u001b[K     |█████████▉                      | 593 kB 5.3 MB/s eta 0:00:01\r\u001b[K     |██████████                      | 604 kB 5.3 MB/s eta 0:00:01\r\u001b[K     |██████████▏                     | 614 kB 5.3 MB/s eta 0:00:01\r\u001b[K     |██████████▎                     | 624 kB 5.3 MB/s eta 0:00:01\r\u001b[K     |██████████▌                     | 634 kB 5.3 MB/s eta 0:00:01\r\u001b[K     |██████████▋                     | 645 kB 5.3 MB/s eta 0:00:01\r\u001b[K     |██████████▉                     | 655 kB 5.3 MB/s eta 0:00:01\r\u001b[K     |███████████                     | 665 kB 5.3 MB/s eta 0:00:01\r\u001b[K     |███████████▏                    | 675 kB 5.3 MB/s eta 0:00:01\r\u001b[K     |███████████▎                    | 686 kB 5.3 MB/s eta 0:00:01\r\u001b[K     |███████████▌                    | 696 kB 5.3 MB/s eta 0:00:01\r\u001b[K     |███████████▋                    | 706 kB 5.3 MB/s eta 0:00:01\r\u001b[K     |███████████▉                    | 716 kB 5.3 MB/s eta 0:00:01\r\u001b[K     |████████████                    | 727 kB 5.3 MB/s eta 0:00:01\r\u001b[K     |████████████▏                   | 737 kB 5.3 MB/s eta 0:00:01\r\u001b[K     |████████████▎                   | 747 kB 5.3 MB/s eta 0:00:01\r\u001b[K     |████████████▌                   | 757 kB 5.3 MB/s eta 0:00:01\r\u001b[K     |████████████▋                   | 768 kB 5.3 MB/s eta 0:00:01\r\u001b[K     |████████████▉                   | 778 kB 5.3 MB/s eta 0:00:01\r\u001b[K     |█████████████                   | 788 kB 5.3 MB/s eta 0:00:01\r\u001b[K     |█████████████▏                  | 798 kB 5.3 MB/s eta 0:00:01\r\u001b[K     |█████████████▎                  | 808 kB 5.3 MB/s eta 0:00:01\r\u001b[K     |█████████████▌                  | 819 kB 5.3 MB/s eta 0:00:01\r\u001b[K     |█████████████▊                  | 829 kB 5.3 MB/s eta 0:00:01\r\u001b[K     |█████████████▉                  | 839 kB 5.3 MB/s eta 0:00:01\r\u001b[K     |██████████████                  | 849 kB 5.3 MB/s eta 0:00:01\r\u001b[K     |██████████████▏                 | 860 kB 5.3 MB/s eta 0:00:01\r\u001b[K     |██████████████▍                 | 870 kB 5.3 MB/s eta 0:00:01\r\u001b[K     |██████████████▌                 | 880 kB 5.3 MB/s eta 0:00:01\r\u001b[K     |██████████████▊                 | 890 kB 5.3 MB/s eta 0:00:01\r\u001b[K     |██████████████▉                 | 901 kB 5.3 MB/s eta 0:00:01\r\u001b[K     |███████████████                 | 911 kB 5.3 MB/s eta 0:00:01\r\u001b[K     |███████████████▏                | 921 kB 5.3 MB/s eta 0:00:01\r\u001b[K     |███████████████▍                | 931 kB 5.3 MB/s eta 0:00:01\r\u001b[K     |███████████████▌                | 942 kB 5.3 MB/s eta 0:00:01\r\u001b[K     |███████████████▊                | 952 kB 5.3 MB/s eta 0:00:01\r\u001b[K     |███████████████▉                | 962 kB 5.3 MB/s eta 0:00:01\r\u001b[K     |████████████████                | 972 kB 5.3 MB/s eta 0:00:01\r\u001b[K     |████████████████▏               | 983 kB 5.3 MB/s eta 0:00:01\r\u001b[K     |████████████████▍               | 993 kB 5.3 MB/s eta 0:00:01\r\u001b[K     |████████████████▌               | 1.0 MB 5.3 MB/s eta 0:00:01\r\u001b[K     |████████████████▊               | 1.0 MB 5.3 MB/s eta 0:00:01\r\u001b[K     |████████████████▉               | 1.0 MB 5.3 MB/s eta 0:00:01\r\u001b[K     |█████████████████               | 1.0 MB 5.3 MB/s eta 0:00:01\r\u001b[K     |█████████████████▏              | 1.0 MB 5.3 MB/s eta 0:00:01\r\u001b[K     |█████████████████▍              | 1.1 MB 5.3 MB/s eta 0:00:01\r\u001b[K     |█████████████████▌              | 1.1 MB 5.3 MB/s eta 0:00:01\r\u001b[K     |█████████████████▊              | 1.1 MB 5.3 MB/s eta 0:00:01\r\u001b[K     |█████████████████▉              | 1.1 MB 5.3 MB/s eta 0:00:01\r\u001b[K     |██████████████████              | 1.1 MB 5.3 MB/s eta 0:00:01\r\u001b[K     |██████████████████▎             | 1.1 MB 5.3 MB/s eta 0:00:01\r\u001b[K     |██████████████████▍             | 1.1 MB 5.3 MB/s eta 0:00:01\r\u001b[K     |██████████████████▋             | 1.1 MB 5.3 MB/s eta 0:00:01\r\u001b[K     |██████████████████▊             | 1.1 MB 5.3 MB/s eta 0:00:01\r\u001b[K     |███████████████████             | 1.1 MB 5.3 MB/s eta 0:00:01\r\u001b[K     |███████████████████             | 1.2 MB 5.3 MB/s eta 0:00:01\r\u001b[K     |███████████████████▎            | 1.2 MB 5.3 MB/s eta 0:00:01\r\u001b[K     |███████████████████▍            | 1.2 MB 5.3 MB/s eta 0:00:01\r\u001b[K     |███████████████████▋            | 1.2 MB 5.3 MB/s eta 0:00:01\r\u001b[K     |███████████████████▊            | 1.2 MB 5.3 MB/s eta 0:00:01\r\u001b[K     |████████████████████            | 1.2 MB 5.3 MB/s eta 0:00:01\r\u001b[K     |████████████████████            | 1.2 MB 5.3 MB/s eta 0:00:01\r\u001b[K     |████████████████████▎           | 1.2 MB 5.3 MB/s eta 0:00:01\r\u001b[K     |████████████████████▍           | 1.2 MB 5.3 MB/s eta 0:00:01\r\u001b[K     |████████████████████▋           | 1.2 MB 5.3 MB/s eta 0:00:01\r\u001b[K     |████████████████████▊           | 1.3 MB 5.3 MB/s eta 0:00:01\r\u001b[K     |█████████████████████           | 1.3 MB 5.3 MB/s eta 0:00:01\r\u001b[K     |█████████████████████           | 1.3 MB 5.3 MB/s eta 0:00:01\r\u001b[K     |█████████████████████▎          | 1.3 MB 5.3 MB/s eta 0:00:01\r\u001b[K     |█████████████████████▍          | 1.3 MB 5.3 MB/s eta 0:00:01\r\u001b[K     |█████████████████████▋          | 1.3 MB 5.3 MB/s eta 0:00:01\r\u001b[K     |█████████████████████▊          | 1.3 MB 5.3 MB/s eta 0:00:01\r\u001b[K     |██████████████████████          | 1.3 MB 5.3 MB/s eta 0:00:01\r\u001b[K     |██████████████████████          | 1.3 MB 5.3 MB/s eta 0:00:01\r\u001b[K     |██████████████████████▎         | 1.4 MB 5.3 MB/s eta 0:00:01\r\u001b[K     |██████████████████████▍         | 1.4 MB 5.3 MB/s eta 0:00:01\r\u001b[K     |██████████████████████▋         | 1.4 MB 5.3 MB/s eta 0:00:01\r\u001b[K     |██████████████████████▉         | 1.4 MB 5.3 MB/s eta 0:00:01\r\u001b[K     |███████████████████████         | 1.4 MB 5.3 MB/s eta 0:00:01\r\u001b[K     |███████████████████████▏        | 1.4 MB 5.3 MB/s eta 0:00:01\r\u001b[K     |███████████████████████▎        | 1.4 MB 5.3 MB/s eta 0:00:01\r\u001b[K     |███████████████████████▌        | 1.4 MB 5.3 MB/s eta 0:00:01\r\u001b[K     |███████████████████████▋        | 1.4 MB 5.3 MB/s eta 0:00:01\r\u001b[K     |███████████████████████▉        | 1.4 MB 5.3 MB/s eta 0:00:01\r\u001b[K     |████████████████████████        | 1.5 MB 5.3 MB/s eta 0:00:01\r\u001b[K     |████████████████████████▏       | 1.5 MB 5.3 MB/s eta 0:00:01\r\u001b[K     |████████████████████████▎       | 1.5 MB 5.3 MB/s eta 0:00:01\r\u001b[K     |████████████████████████▌       | 1.5 MB 5.3 MB/s eta 0:00:01\r\u001b[K     |████████████████████████▋       | 1.5 MB 5.3 MB/s eta 0:00:01\r\u001b[K     |████████████████████████▉       | 1.5 MB 5.3 MB/s eta 0:00:01\r\u001b[K     |█████████████████████████       | 1.5 MB 5.3 MB/s eta 0:00:01\r\u001b[K     |█████████████████████████▏      | 1.5 MB 5.3 MB/s eta 0:00:01\r\u001b[K     |█████████████████████████▎      | 1.5 MB 5.3 MB/s eta 0:00:01\r\u001b[K     |█████████████████████████▌      | 1.5 MB 5.3 MB/s eta 0:00:01\r\u001b[K     |█████████████████████████▋      | 1.6 MB 5.3 MB/s eta 0:00:01\r\u001b[K     |█████████████████████████▉      | 1.6 MB 5.3 MB/s eta 0:00:01\r\u001b[K     |██████████████████████████      | 1.6 MB 5.3 MB/s eta 0:00:01\r\u001b[K     |██████████████████████████▏     | 1.6 MB 5.3 MB/s eta 0:00:01\r\u001b[K     |██████████████████████████▎     | 1.6 MB 5.3 MB/s eta 0:00:01\r\u001b[K     |██████████████████████████▌     | 1.6 MB 5.3 MB/s eta 0:00:01\r\u001b[K     |██████████████████████████▋     | 1.6 MB 5.3 MB/s eta 0:00:01\r\u001b[K     |██████████████████████████▉     | 1.6 MB 5.3 MB/s eta 0:00:01\r\u001b[K     |███████████████████████████     | 1.6 MB 5.3 MB/s eta 0:00:01\r\u001b[K     |███████████████████████████▏    | 1.6 MB 5.3 MB/s eta 0:00:01\r\u001b[K     |███████████████████████████▍    | 1.7 MB 5.3 MB/s eta 0:00:01\r\u001b[K     |███████████████████████████▌    | 1.7 MB 5.3 MB/s eta 0:00:01\r\u001b[K     |███████████████████████████▊    | 1.7 MB 5.3 MB/s eta 0:00:01\r\u001b[K     |███████████████████████████▉    | 1.7 MB 5.3 MB/s eta 0:00:01\r\u001b[K     |████████████████████████████    | 1.7 MB 5.3 MB/s eta 0:00:01\r\u001b[K     |████████████████████████████▏   | 1.7 MB 5.3 MB/s eta 0:00:01\r\u001b[K     |████████████████████████████▍   | 1.7 MB 5.3 MB/s eta 0:00:01\r\u001b[K     |████████████████████████████▌   | 1.7 MB 5.3 MB/s eta 0:00:01\r\u001b[K     |████████████████████████████▊   | 1.7 MB 5.3 MB/s eta 0:00:01\r\u001b[K     |████████████████████████████▉   | 1.8 MB 5.3 MB/s eta 0:00:01\r\u001b[K     |█████████████████████████████   | 1.8 MB 5.3 MB/s eta 0:00:01\r\u001b[K     |█████████████████████████████▏  | 1.8 MB 5.3 MB/s eta 0:00:01\r\u001b[K     |█████████████████████████████▍  | 1.8 MB 5.3 MB/s eta 0:00:01\r\u001b[K     |█████████████████████████████▌  | 1.8 MB 5.3 MB/s eta 0:00:01\r\u001b[K     |█████████████████████████████▊  | 1.8 MB 5.3 MB/s eta 0:00:01\r\u001b[K     |█████████████████████████████▉  | 1.8 MB 5.3 MB/s eta 0:00:01\r\u001b[K     |██████████████████████████████  | 1.8 MB 5.3 MB/s eta 0:00:01\r\u001b[K     |██████████████████████████████▏ | 1.8 MB 5.3 MB/s eta 0:00:01\r\u001b[K     |██████████████████████████████▍ | 1.8 MB 5.3 MB/s eta 0:00:01\r\u001b[K     |██████████████████████████████▌ | 1.9 MB 5.3 MB/s eta 0:00:01\r\u001b[K     |██████████████████████████████▊ | 1.9 MB 5.3 MB/s eta 0:00:01\r\u001b[K     |██████████████████████████████▉ | 1.9 MB 5.3 MB/s eta 0:00:01\r\u001b[K     |███████████████████████████████ | 1.9 MB 5.3 MB/s eta 0:00:01\r\u001b[K     |███████████████████████████████▏| 1.9 MB 5.3 MB/s eta 0:00:01\r\u001b[K     |███████████████████████████████▍| 1.9 MB 5.3 MB/s eta 0:00:01\r\u001b[K     |███████████████████████████████▌| 1.9 MB 5.3 MB/s eta 0:00:01\r\u001b[K     |███████████████████████████████▊| 1.9 MB 5.3 MB/s eta 0:00:01\r\u001b[K     |████████████████████████████████| 1.9 MB 5.3 MB/s eta 0:00:01\r\u001b[K     |████████████████████████████████| 1.9 MB 5.3 MB/s \n",
            "\u001b[?25hInstalling collected packages: pycryptodome\n",
            "Successfully installed pycryptodome-3.11.0\n"
          ]
        }
      ]
    },
    {
      "cell_type": "code",
      "metadata": {
        "colab": {
          "base_uri": "https://localhost:8080/",
          "height": 439
        },
        "id": "tgQ6NCPSUsYs",
        "outputId": "e6920106-a5ac-4d7e-8bc3-901617edf0c0"
      },
      "source": [
        "# -*- coding: utf-8 -*-\n",
        "# -*- coding: utf-8 sin bom -*-\n",
        "\n",
        "\"\"\"salsa20_exercise.ipynb\n",
        "\n",
        "Automatically generated by Colaboratory.\n",
        "\n",
        "Original file is located at\n",
        "    https://colab.research.google.com/drive/1VD9CR7D_k91KjkugRyGfVfI0Ezi1JBE0\n",
        "\"\"\"\n",
        "\n",
        "#!pip install pycryptodome\n",
        "\n",
        "from Crypto.Cipher import Salsa20\n",
        "import random\n",
        "\n",
        "#message = \"Two things are infinite: the universe and human stupidity; and I am not sure about the universe.\"\n",
        "message = \"Kim ne derse desin, mutlu insanın en mutlu anı, uykuya daldığı andır ve mutsuz bir insanın en mutsuz anı, uykudan uyandığı andır. İnsan hayatı, bir tür hata olmalı.\"\n",
        "ptext = message.encode('UTF-8')\n",
        "print(\"Mesage length in bytes\", len(message))\n",
        "print(\"Mesage length in bytes\", len(ptext))\n",
        "#ptext = b'Two things are infinite: the universe and human stupidity; and I am not sure about the universe.'\n",
        "\n",
        "secret = 314159265358979323\n",
        "key = secret.to_bytes(32, byteorder='big')\n",
        "print(\"key:\" , key)\n",
        "#secret = random.randint(0,2**256)\n",
        "#key = secret.to_bytes(32, byteorder='big')\n",
        "print(\"secret\", secret)\n",
        "print(\"key\", key)\n",
        "#secret = random.randint(0,2**128)\n",
        "#key = secret.to_bytes(16, byteorder='big')\n",
        "print(\"Key length in bytes\", len(key))\n",
        "\n",
        "cipher = Salsa20.new(key)\n",
        "#ctext = cipher.nonce + cipher.encrypt(ptext) ctext1\n",
        "ctext= b'1v-\\xdda\\x9d\\x13\\xf5y\\xd4M\\xcc\\xc2\\xd5\\xc9\\xe8\\xca\\xfcF\\xe1\\x7f\\xdd\\xabM,=c\\xa6\\x9e\\xd2M\\x11;9Bpna\\x91\\xb8\\xf5z>\\x0cZ\\x83\\x11\\xa7\\x01\\x1b\\xc2\\xc5$>\\x10\\xa2>\"#\\xc0\\x98\\xa4\\xc2\\xbd\\xa1\\xce\\x0f\\x17]\\x8c_\\xee\\xadT|'\n",
        "\n",
        "cipher1 = Salsa20.new(key)\n",
        "ctext1 = cipher1.nonce + cipher1.encrypt(ptext)\n",
        "\n",
        "print(\"plaintext: \", message)\n",
        "print(\"ciphertext: \", ctext)\n",
        "print(\"ciphertext1: \", ctext1)\n",
        "print(\"Ciphertext length in bytes\", len(ctext))\n",
        "print(\"nonce: \", cipher.nonce)\n",
        "\n",
        "ctext_nonce = ctext[:8]\n",
        "ciphertext = ctext[8:]\n",
        "cipher = Salsa20.new(key, nonce=ctext_nonce)\n",
        "#cipher = Salsa20.new(key=secret)\n",
        "dtext = cipher.decrypt(ciphertext)\n",
        "\n",
        "print(\"decoded text: \", dtext.decode('UTF-8'))\n",
        "\n",
        "\n",
        "\n",
        "\n"
      ],
      "execution_count": null,
      "outputs": [
        {
          "output_type": "stream",
          "name": "stdout",
          "text": [
            "Mesage length in bytes 164\n",
            "Mesage length in bytes 180\n",
            "key: b'\\x00\\x00\\x00\\x00\\x00\\x00\\x00\\x00\\x00\\x00\\x00\\x00\\x00\\x00\\x00\\x00\\x00\\x00\\x00\\x00\\x00\\x00\\x00\\x00\\x04\\\\\\x1e/\\xf6\\x9e\\xa0\\xfb'\n",
            "secret 314159265358979323\n",
            "key b'\\x00\\x00\\x00\\x00\\x00\\x00\\x00\\x00\\x00\\x00\\x00\\x00\\x00\\x00\\x00\\x00\\x00\\x00\\x00\\x00\\x00\\x00\\x00\\x00\\x04\\\\\\x1e/\\xf6\\x9e\\xa0\\xfb'\n",
            "Key length in bytes 32\n",
            "plaintext:  Kim ne derse desin, mutlu insanın en mutlu anı, uykuya daldığı andır ve mutsuz bir insanın en mutsuz anı, uykudan uyandığı andır. İnsan hayatı, bir tür hata olmalı.\n",
            "ciphertext:  b'1v-\\xdda\\x9d\\x13\\xf5y\\xd4M\\xcc\\xc2\\xd5\\xc9\\xe8\\xca\\xfcF\\xe1\\x7f\\xdd\\xabM,=c\\xa6\\x9e\\xd2M\\x11;9Bpna\\x91\\xb8\\xf5z>\\x0cZ\\x83\\x11\\xa7\\x01\\x1b\\xc2\\xc5$>\\x10\\xa2>\"#\\xc0\\x98\\xa4\\xc2\\xbd\\xa1\\xce\\x0f\\x17]\\x8c_\\xee\\xadT|'\n",
            "ciphertext1:  b\"\\xe4\\xce\\xbe\\x0fw\\x9e%\\xe4\\xc3\\xc6\\x0b\\xcb\\xb5\\x0c(\\xdeF\\x12\\x1dQ\\r\\xa3\\xc7\\xfej\\x06'\\xf7\\xf5\\xed\\xe8Q\\xe9\\x17;f\\xb7C\\xc4V7\\x17\\xcc<\\\\\\x95\\x9b\\x9d\\xc0y\\xf1\\xc5\\xca\\xf4\\xd7\\xf7z\\xa5\\x9b\\xa2\\xb2]\\xfa\\xd7\\xd5\\x8c-\\x03\\xa3\\xa7<\\x079r\\xad.x89y\\x07\\xe4=d\\x1e\\xf9\\x9e\\xbe\\x10W\\x12Q\\xde\\xe5\\t\\x99\\xf3\\x03\\x84\\x02\\t-@\\x89\\xa1\\x19\\x9c\\xb5\\xf7\\x12o\\x84\\x00\\x15\\x1f5\\x8c\\xf4\\xcc\\xc3k~\\x0e\\xe9\\x9a\\xb2\\re'o\\x8a\\xc0_\\xdc\\xd6\\x18\\x95\\x89m\\xbb\\xe2\\xb3\\x9c\\t^k\\xd4\\xc4\\x02\\xa9s\\x1b%\\x80z\\xb5\\xcaV\\x85\\xcdA\\xd5\\x9f_\\xe7\\x87\\x011\\xf7\\x87\\xdd\\x11\\x14\\xdd\\x003C\\xf1\\xe6\\x8d\\xb6\\xdb\\xeb\\xde\\xe8<\\x91k\"\n",
            "Ciphertext length in bytes 75\n",
            "nonce:  b'\\xbb\\xb4h\\xc1\\x03\\xf1\\xbb\\x89'\n"
          ]
        },
        {
          "output_type": "error",
          "ename": "UnicodeDecodeError",
          "evalue": "ignored",
          "traceback": [
            "\u001b[0;31m---------------------------------------------------------------------------\u001b[0m",
            "\u001b[0;31mUnicodeDecodeError\u001b[0m                        Traceback (most recent call last)",
            "\u001b[0;32m<ipython-input-22-dd2a1e9ae521>\u001b[0m in \u001b[0;36m<module>\u001b[0;34m()\u001b[0m\n\u001b[1;32m     52\u001b[0m \u001b[0mdtext\u001b[0m \u001b[0;34m=\u001b[0m \u001b[0mcipher\u001b[0m\u001b[0;34m.\u001b[0m\u001b[0mdecrypt\u001b[0m\u001b[0;34m(\u001b[0m\u001b[0mciphertext\u001b[0m\u001b[0;34m)\u001b[0m\u001b[0;34m\u001b[0m\u001b[0;34m\u001b[0m\u001b[0m\n\u001b[1;32m     53\u001b[0m \u001b[0;34m\u001b[0m\u001b[0m\n\u001b[0;32m---> 54\u001b[0;31m \u001b[0mprint\u001b[0m\u001b[0;34m(\u001b[0m\u001b[0;34m\"decoded text: \"\u001b[0m\u001b[0;34m,\u001b[0m \u001b[0mdtext\u001b[0m\u001b[0;34m.\u001b[0m\u001b[0mdecode\u001b[0m\u001b[0;34m(\u001b[0m\u001b[0;34m'UTF-8'\u001b[0m\u001b[0;34m)\u001b[0m\u001b[0;34m)\u001b[0m\u001b[0;34m\u001b[0m\u001b[0;34m\u001b[0m\u001b[0m\n\u001b[0m\u001b[1;32m     55\u001b[0m \u001b[0;34m\u001b[0m\u001b[0m\n\u001b[1;32m     56\u001b[0m \u001b[0;34m\u001b[0m\u001b[0m\n",
            "\u001b[0;31mUnicodeDecodeError\u001b[0m: 'utf-8' codec can't decode byte 0xa1 in position 1: invalid start byte"
          ]
        }
      ]
    },
    {
      "cell_type": "code",
      "metadata": {
        "colab": {
          "base_uri": "https://localhost:8080/",
          "height": 405
        },
        "id": "4zIMoJp7ZHTG",
        "outputId": "ca561058-594b-49e8-8f5f-bc8002e68494"
      },
      "source": [
        "# -*- coding: utf-8 -*-\n",
        "# -*- coding: utf-8 sin bom -*-\n",
        "\n",
        "\"\"\"salsa20_exercise.ipynb\n",
        "\n",
        "Automatically generated by Colaboratory.\n",
        "\n",
        "Original file is located at\n",
        "    https://colab.research.google.com/drive/1VD9CR7D_k91KjkugRyGfVfI0Ezi1JBE0\n",
        "\"\"\"\n",
        "\n",
        "#!pip install pycryptodome\n",
        "\n",
        "from Crypto.Cipher import Salsa20\n",
        "import random\n",
        "\n",
        "#message = \"Two things are infinite: the universe and human stupidity; and I am not sure about the universe.\"\n",
        "message = \"Kim ne derse desin, mutlu insanın en mutlu anı, uykuya daldığı andır ve mutsuz bir insanın en mutsuz anı, uykudan uyandığı andır. İnsan hayatı, bir tür hata olmalı.\"\n",
        "ptext = message.encode('UTF-8')\n",
        "print(\"Mesage length in bytes\", len(message))\n",
        "print(\"Mesage length in bytes\", len(ptext))\n",
        "#ptext = b'Two things are infinite: the universe and human stupidity; and I am not sure about the universe.'\n",
        "\n",
        "secret = 314159265358979323\n",
        "key = secret.to_bytes(32, byteorder='big')\n",
        "print(\"key:\" , key)\n",
        "#secret = random.randint(0,2**256)\n",
        "#key = secret.to_bytes(32, byteorder='big')\n",
        "#secret = random.randint(0,2**128)\n",
        "#key = secret.to_bytes(16, byteorder='big')\n",
        "print(\"Key length in bytes\", len(key))\n",
        "\n",
        "cipher = Salsa20.new(key)\n",
        "#ctext = cipher.nonce + cipher.encrypt(ptext) ctext2\n",
        "ctext = b'\\x9d\\x131v-\\xdda\\xe9\\xf3,\\xca\\x02\\xd1\\xc9\\x9a\\xda\\xe1\\xce\\xfcM\\xed1\\xdb\\xb9\\r,\\x1b -\\xa6\\x88\\x84JTo7N>p}\\x9b\\xfb\\xa6e?\\x0bQ\\xc6_\\xa7\\x1d\\x1a\\x87\\x8c78\\x1a\\xa9\\x7f!!\\xce\\xdd\\xe9\\xd6\\xbd\\xf5\\x9a\\t\\x17G\\xc9K\\xf2\\xecDl\\xb0\\xca\\x86\\xa6\\xd7\\xde\\xe5zxf\\xd0\\xado\\xea'\n",
        "\n",
        "cipher1 = Salsa20.new(key)\n",
        "ctext1 = cipher1.nonce + cipher1.encrypt(ptext)\n",
        "\n",
        "print(\"plaintext: \", message)\n",
        "print(\"ciphertext: \", ctext)\n",
        "print(\"ciphertext1: \", ctext1)\n",
        "print(\"Ciphertext length in bytes\", len(ctext))\n",
        "print(\"nonce: \", cipher.nonce)\n",
        "\n",
        "ctext_nonce = ctext[:8]\n",
        "ciphertext = ctext[8:]\n",
        "cipher = Salsa20.new(key, nonce=ctext_nonce)\n",
        "#cipher = Salsa20.new(key=secret)\n",
        "dtext = cipher.decrypt(ciphertext)\n",
        "\n",
        "print(\"decoded text: \", dtext.decode('UTF-8'))\n",
        "\n",
        "\n",
        "\n",
        "\n"
      ],
      "execution_count": null,
      "outputs": [
        {
          "output_type": "stream",
          "name": "stdout",
          "text": [
            "Mesage length in bytes 164\n",
            "Mesage length in bytes 180\n",
            "key: b'\\x00\\x00\\x00\\x00\\x00\\x00\\x00\\x00\\x00\\x00\\x00\\x00\\x00\\x00\\x00\\x00\\x00\\x00\\x00\\x00\\x00\\x00\\x00\\x00\\x04\\\\\\x1e/\\xf6\\x9e\\xa0\\xfb'\n",
            "Key length in bytes 32\n",
            "plaintext:  Kim ne derse desin, mutlu insanın en mutlu anı, uykuya daldığı andır ve mutsuz bir insanın en mutsuz anı, uykudan uyandığı andır. İnsan hayatı, bir tür hata olmalı.\n",
            "ciphertext:  b'\\x9d\\x131v-\\xdda\\xe9\\xf3,\\xca\\x02\\xd1\\xc9\\x9a\\xda\\xe1\\xce\\xfcM\\xed1\\xdb\\xb9\\r,\\x1b -\\xa6\\x88\\x84JTo7N>p}\\x9b\\xfb\\xa6e?\\x0bQ\\xc6_\\xa7\\x1d\\x1a\\x87\\x8c78\\x1a\\xa9\\x7f!!\\xce\\xdd\\xe9\\xd6\\xbd\\xf5\\x9a\\t\\x17G\\xc9K\\xf2\\xecDl\\xb0\\xca\\x86\\xa6\\xd7\\xde\\xe5zxf\\xd0\\xado\\xea'\n",
            "ciphertext1:  b\"\\xfaM\\xc1\\xe5\\x7f\\xf54\\xcb\\xe7\\x92\\x05\\xc7\\x7f\\xff\\x1d\\xa4GI\\x82\\xd3\\xf3\\x9d;\\x1c8z\\xcb'\\x08q*\\x90H)\\xea\\x94\\x02\\xba#l%I\\xe4%e\\x0ed\\x17\\x86\\xa3\\x90!\\x04\\x8fn\\xde\\x0b\\x18\\xb3\\xfe\\x03\\xe3\\xb7\\xdc\\xaa\\x9a\\xca\\x94\\x0e\\x95\\x88\\x0c\\x8fsG\\xf2/\\x01\\xc3t\\xaf\\x8f\\xc7'#rC\\xeb\\ng\\xee\\x85>m\\x11\\x17\\x1a\\xf0\\xf0\\xf3\\x99\\xae/\\xa5}/\\rVk\\xdfz\\x1d@z\\xc4\\x83\\xf1\\xc9\\x1b\\xc9N6\\xd5\\xb1:\\xfa0)\\xc4 @7\\xc7tM\\x15\\t\\x96j\\xe9\\x14\\xb9\\x12o5\\x8bH\\xa8\\\\jGl\\xde)\\xc2:\\r\\xa8\\x1f\\xd7\\t\\xe2\\xf7\\xf91\\xa9BT$k\\xd4-g\\x88P\\xf80\\x80RTL1\\x02\\xbc\\xf1\\xcf\\x06\\xf0\"\n",
            "Ciphertext length in bytes 91\n",
            "nonce:  b'\\x18\\x93\\xa5\\xd5\\xa6\\xc0\\x80\\xff'\n"
          ]
        },
        {
          "output_type": "error",
          "ename": "UnicodeDecodeError",
          "evalue": "ignored",
          "traceback": [
            "\u001b[0;31m---------------------------------------------------------------------------\u001b[0m",
            "\u001b[0;31mUnicodeDecodeError\u001b[0m                        Traceback (most recent call last)",
            "\u001b[0;32m<ipython-input-25-3012b29c5030>\u001b[0m in \u001b[0;36m<module>\u001b[0;34m()\u001b[0m\n\u001b[1;32m     50\u001b[0m \u001b[0mdtext\u001b[0m \u001b[0;34m=\u001b[0m \u001b[0mcipher\u001b[0m\u001b[0;34m.\u001b[0m\u001b[0mdecrypt\u001b[0m\u001b[0;34m(\u001b[0m\u001b[0mciphertext\u001b[0m\u001b[0;34m)\u001b[0m\u001b[0;34m\u001b[0m\u001b[0;34m\u001b[0m\u001b[0m\n\u001b[1;32m     51\u001b[0m \u001b[0;34m\u001b[0m\u001b[0m\n\u001b[0;32m---> 52\u001b[0;31m \u001b[0mprint\u001b[0m\u001b[0;34m(\u001b[0m\u001b[0;34m\"decoded text: \"\u001b[0m\u001b[0;34m,\u001b[0m \u001b[0mdtext\u001b[0m\u001b[0;34m.\u001b[0m\u001b[0mdecode\u001b[0m\u001b[0;34m(\u001b[0m\u001b[0;34m'UTF-8'\u001b[0m\u001b[0;34m)\u001b[0m\u001b[0;34m)\u001b[0m\u001b[0;34m\u001b[0m\u001b[0;34m\u001b[0m\u001b[0m\n\u001b[0m\u001b[1;32m     53\u001b[0m \u001b[0;34m\u001b[0m\u001b[0m\n\u001b[1;32m     54\u001b[0m \u001b[0;34m\u001b[0m\u001b[0m\n",
            "\u001b[0;31mUnicodeDecodeError\u001b[0m: 'utf-8' codec can't decode byte 0xe7 in position 20: invalid continuation byte"
          ]
        }
      ]
    },
    {
      "cell_type": "code",
      "metadata": {
        "colab": {
          "base_uri": "https://localhost:8080/",
          "height": 405
        },
        "id": "MIUDCoPVabXy",
        "outputId": "e05f8de4-99d5-4103-e1a5-b8f746786f80"
      },
      "source": [
        "# -*- coding: utf-8 -*-\n",
        "# -*- coding: utf-8 sin bom -*-\n",
        "\n",
        "\"\"\"salsa20_exercise.ipynb\n",
        "\n",
        "Automatically generated by Colaboratory.\n",
        "\n",
        "Original file is located at\n",
        "    https://colab.research.google.com/drive/1VD9CR7D_k91KjkugRyGfVfI0Ezi1JBE0\n",
        "\"\"\"\n",
        "\n",
        "#!pip install pycryptodome\n",
        "\n",
        "from Crypto.Cipher import Salsa20\n",
        "import random\n",
        "\n",
        "#message = \"Two things are infinite: the universe and human stupidity; and I am not sure about the universe.\"\n",
        "message = \"Kim ne derse desin, mutlu insanın en mutlu anı, uykuya daldığı andır ve mutsuz bir insanın en mutsuz anı, uykudan uyandığı andır. İnsan hayatı, bir tür hata olmalı.\"\n",
        "ptext = message.encode('UTF-8')\n",
        "print(\"Mesage length in bytes\", len(message))\n",
        "print(\"Mesage length in bytes\", len(ptext))\n",
        "#ptext = b'Two things are infinite: the universe and human stupidity; and I am not sure about the universe.'\n",
        "\n",
        "secret = 314159265358979323\n",
        "key = secret.to_bytes(32, byteorder='big')\n",
        "#key =  314159265358979323\n",
        "#key = key.to_bytes(32, byteorder='big')\n",
        "\n",
        "print(\"key:\" , key)\n",
        "#secret = random.randint(0,2**256)\n",
        "#key = secret.to_bytes(32, byteorder='big')\n",
        "#secret = random.randint(0,2**128)\n",
        "#key = secret.to_bytes(16, byteorder='big')\n",
        "print(\"Key length in bytes\", len(key))\n",
        "\n",
        "cipher = Salsa20.new(key)\n",
        "#ctext = cipher.nonce + cipher.encrypt(ptext)\n",
        "\n",
        "ctext3 = b\"\\x00\\x04\\x00\\x00\\x00\\x00\\xfd7\\xc1\\x02\\xcf\\xc9\\x82\\xc4\\xe1\\xc7\\xf1D\\xef\\x7f\\xdd\\xab\\x10,\\x00,\\xea\\x9d\\xc1IC!qJ1ma\\x9b\\xba\\xe7f>\\x01N\\x83\\x0b\\xa7\\x0c\\t\\xde\\xc537\\x1b\\xfby='\\xca\\x89\\xe8\\xda\\xee\\xf3\\xdf\\x14\\x06V\\xc5[\\xf5\\xadOj\\xa9\\xc1\\x86\\xb4\\xdd\\x8d\\xff}|f\\xd2\\xado\\xe6r\\xf6\\xcf\\xe3\\xf1H\\xa6\\xdaA\\xcb\\x17\"\n",
        "\n",
        "cipher1 = Salsa20.new(key)\n",
        "ctext1 = cipher1.nonce + cipher1.encrypt(ptext)\n",
        "\n",
        "print(\"plaintext: \", message)\n",
        "print(\"ciphertext: \", ctext)\n",
        "print(\"ciphertext1: \", ctext1)\n",
        "print(\"Ciphertext length in bytes\", len(ctext))\n",
        "print(\"nonce: \", cipher.nonce)\n",
        "\n",
        "ctext_nonce = ctext[:8]\n",
        "ciphertext = ctext[8:]\n",
        "cipher = Salsa20.new(key, nonce=ctext_nonce)\n",
        "#cipher = Salsa20.new(key=secret)\n",
        "dtext = cipher.decrypt(ciphertext)\n",
        "\n",
        "print(\"decoded text: \", dtext.decode('UTF-8'))\n",
        "\n",
        "\n",
        "\n",
        "\n"
      ],
      "execution_count": null,
      "outputs": [
        {
          "output_type": "stream",
          "name": "stdout",
          "text": [
            "Mesage length in bytes 164\n",
            "Mesage length in bytes 180\n",
            "key: b'\\x00\\x00\\x00\\x00\\x00\\x00\\x00\\x00\\x00\\x00\\x00\\x00\\x00\\x00\\x00\\x00\\x00\\x00\\x00\\x00\\x00\\x00\\x00\\x00\\x04\\\\\\x1e/\\xf6\\x9e\\xa0\\xfb'\n",
            "Key length in bytes 32\n",
            "plaintext:  Kim ne derse desin, mutlu insanın en mutlu anı, uykuya daldığı andır ve mutsuz bir insanın en mutsuz anı, uykudan uyandığı andır. İnsan hayatı, bir tür hata olmalı.\n",
            "ciphertext:  b'\\x9d\\x131v-\\xdda\\xe9\\xf3,\\xca\\x02\\xd1\\xc9\\x9a\\xda\\xe1\\xce\\xfcM\\xed1\\xdb\\xb9\\r,\\x1b -\\xa6\\x88\\x84JTo7N>p}\\x9b\\xfb\\xa6e?\\x0bQ\\xc6_\\xa7\\x1d\\x1a\\x87\\x8c78\\x1a\\xa9\\x7f!!\\xce\\xdd\\xe9\\xd6\\xbd\\xf5\\x9a\\t\\x17G\\xc9K\\xf2\\xecDl\\xb0\\xca\\x86\\xa6\\xd7\\xde\\xe5zxf\\xd0\\xado\\xea'\n",
            "ciphertext1:  b'i\\x82\\xdd\\x04\\xc6\\xd0\\x05\\xf2\\x87\\xc4\\x87v@\\xf1i$\\x0b\\x8f\\x181\\x0e\\x1e36\\xeb\\xb6>Gs\\xcc\\x96s\\x00\\xb8:\\x15\\xab\\x12\\x91O)\\x7f\\xcc(T\\xc4\\na\\xbdD\\x82\\x9c\\x1bj\\xbf\\xfb\\r\\x18\\x1c\\xbc&J}r\\xcc\\x11\\xc8\\x1a%\\xb2\\x9b\\x90~0\\x8d\\xa2\\x02\\x81\\x14I\\x1f3\\xac\\x01\\xed\\xec\\xa5|= \\x98\\x95\\xd3\\xae\\xd7\\xf1\\xf7\\x9e\\xde\\x89p\\x12U.L\\x9a\\x10\\x8a\\xc1j~\\xec!h\\x84n\\xab\\xcd\\x03U)PKZ%j\\x0c\\\\\\xb6_q\\xff\\x00\\xcc\\xbe\\x15\\xe7\\xb44A\\xe13\\x8f\\xfap\\x92\\xde~F\\x17d\\xfcj4\\xdb\\xcc_\\xc1\\xb7\\x14\\x8bAq\\xb7\\x15t\\xd2}\\x00\\xce\\xd9\\xcdw\\xe6\\xae\\x18\\x9b\\x1c\\x84iV\\x1ce\\x03\\xafQX\\x07'\n",
            "Ciphertext length in bytes 91\n",
            "nonce:  b'\\x9ah\\x97\\xae\\xf7\\xb21\\xf7'\n"
          ]
        },
        {
          "output_type": "error",
          "ename": "UnicodeDecodeError",
          "evalue": "ignored",
          "traceback": [
            "\u001b[0;31m---------------------------------------------------------------------------\u001b[0m",
            "\u001b[0;31mUnicodeDecodeError\u001b[0m                        Traceback (most recent call last)",
            "\u001b[0;32m<ipython-input-26-33a26b6f9451>\u001b[0m in \u001b[0;36m<module>\u001b[0;34m()\u001b[0m\n\u001b[1;32m     54\u001b[0m \u001b[0mdtext\u001b[0m \u001b[0;34m=\u001b[0m \u001b[0mcipher\u001b[0m\u001b[0;34m.\u001b[0m\u001b[0mdecrypt\u001b[0m\u001b[0;34m(\u001b[0m\u001b[0mciphertext\u001b[0m\u001b[0;34m)\u001b[0m\u001b[0;34m\u001b[0m\u001b[0;34m\u001b[0m\u001b[0m\n\u001b[1;32m     55\u001b[0m \u001b[0;34m\u001b[0m\u001b[0m\n\u001b[0;32m---> 56\u001b[0;31m \u001b[0mprint\u001b[0m\u001b[0;34m(\u001b[0m\u001b[0;34m\"decoded text: \"\u001b[0m\u001b[0;34m,\u001b[0m \u001b[0mdtext\u001b[0m\u001b[0;34m.\u001b[0m\u001b[0mdecode\u001b[0m\u001b[0;34m(\u001b[0m\u001b[0;34m'UTF-8'\u001b[0m\u001b[0;34m)\u001b[0m\u001b[0;34m)\u001b[0m\u001b[0;34m\u001b[0m\u001b[0;34m\u001b[0m\u001b[0m\n\u001b[0m\u001b[1;32m     57\u001b[0m \u001b[0;34m\u001b[0m\u001b[0m\n\u001b[1;32m     58\u001b[0m \u001b[0;34m\u001b[0m\u001b[0m\n",
            "\u001b[0;31mUnicodeDecodeError\u001b[0m: 'utf-8' codec can't decode byte 0xe7 in position 20: invalid continuation byte"
          ]
        }
      ]
    }
  ]
}