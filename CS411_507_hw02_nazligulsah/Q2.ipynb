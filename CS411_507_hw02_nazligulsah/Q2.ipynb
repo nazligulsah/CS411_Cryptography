{
  "nbformat": 4,
  "nbformat_minor": 0,
  "metadata": {
    "colab": {
      "name": "Q2.ipynb",
      "provenance": []
    },
    "kernelspec": {
      "name": "python3",
      "display_name": "Python 3"
    },
    "language_info": {
      "name": "python"
    }
  },
  "cells": [
    {
      "cell_type": "code",
      "metadata": {
        "colab": {
          "base_uri": "https://localhost:8080/"
        },
        "id": "OBVwSftWGE0G",
        "outputId": "f0eeefab-b9ba-40ba-e81d-a66f03d716e5"
      },
      "source": [
        "import requests\n",
        "#API_URL = 'http://10.36.52.109:6000'\n",
        "API_URL = 'http://cryptlygos.pythonanywhere.com'\n",
        "my_id = 26392\n",
        "def getQ2():\n",
        "  endpoint = '{}/{}/{}'.format(API_URL, \"Q2\", my_id )\n",
        "  response = requests.get(endpoint) \t\n",
        "  if response.ok:\t\n",
        "    res = response.json()\n",
        "    e, cipher = res['e'], res['cipher']\n",
        "    return e, cipher\n",
        "  else:  print(response.json())\n",
        "\n",
        "e,cipher = getQ2()\n",
        "print(\"e :\" , e)\n",
        "print(\"cipher:\" ,cipher)"
      ],
      "execution_count": null,
      "outputs": [
        {
          "output_type": "stream",
          "name": "stdout",
          "text": [
            "e : 1080138016892022230685894332716429501291020372417305118752457994517593365679634595614512823112752329563243885125118059272503408733031742883353954499517703905739969605845515926500565079813351264619774394224132350814491094430325419438948278269681064138626038873828525646838880839636471512086250369891377041581727\n",
            "cipher: 301021681782748232720579435729636035376040929868757396286269572898045790308170225149459800247886586245603855097812968308261965368850097176967241160271162929752014008097719051971283350350993411432170483021905249669790640056957165839552582477237493634825862955847338316394314119504180526418740420978117688668564\n"
          ]
        }
      ]
    },
    {
      "cell_type": "code",
      "metadata": {
        "id": "8AzRJv2V0Jav"
      },
      "source": [
        "def checkQ2(ptext):  #check your answer for Question 1 part c\n",
        "  response = requests.put('{}/{}'.format(API_URL, \"checkQ2\"), json = {\"ID\": my_id, \"msg\":ptext})\n",
        "  print(response.json())"
      ],
      "execution_count": null,
      "outputs": []
    },
    {
      "cell_type": "code",
      "metadata": {
        "id": "fviGyVHsGnNJ"
      },
      "source": [
        "import math\n",
        "import random\n",
        "import warnings\n",
        "import sympy\n",
        "\n",
        "def phi(n):\n",
        "    amount = 0\n",
        "    for k in range(1, n + 1):\n",
        "        if math.gcd(n, k) == 1:\n",
        "            amount += 1\n",
        "    return amount\n",
        "\n",
        "def gcd(a, b):\n",
        "    \"\"\"Calculate the Greatest Common Divisor of a and b.\n",
        "\n",
        "    Unless b==0, the result will have the same sign as b (so that when\n",
        "    b is divided by it, the result comes out positive).\n",
        "    \"\"\"\n",
        "    while b:\n",
        "        a, b = b, a%b\n",
        "    return a\n",
        "\n",
        "def egcd(a, b):\n",
        "    x,y, u,v = 0,1, 1,0\n",
        "    while a != 0:\n",
        "        q, r = b//a, b%a\n",
        "        m, n = x-u*q, y-v*q\n",
        "        b,a, x,y, u,v = a,r, u,v, m,n\n",
        "    gcd = b\n",
        "    return gcd, x, y\n",
        "\n",
        "def modinv(a, m):\n",
        "    if a < 0:\n",
        "        a = m+a\n",
        "    gcd, x, y = egcd(a, m)\n",
        "    if gcd != 1:\n",
        "        return None  # modular inverse does not exist\n",
        "    else:\n",
        "        return x % m\n",
        "      \n"
      ],
      "execution_count": null,
      "outputs": []
    },
    {
      "cell_type": "code",
      "metadata": {
        "colab": {
          "base_uri": "https://localhost:8080/"
        },
        "id": "8WpxTmTZr3_o",
        "outputId": "0cf56d57-8b7c-489d-ebe3-74c1dd32cd16"
      },
      "source": [
        "p = 23736540918088479407817876031701066644301064882958875296167214819014438374011661672830210955539507252066999384067356159056835877781419479023313149139444707\n",
        "q = 62179896404564992443617709894241054520624355558658288422696178839274611833136662241430162694076231401545584449128278988404970580015985140542451087049794069\n",
        "e =  1080138016892022230685894332716429501291020372417305118752457994517593365679634595614512823112752329563243885125118059272503408733031742883353954499517703905739969605845515926500565079813351264619774394224132350814491094430325419438948278269681064138626038873828525646838880839636471512086250369891377041581727\n",
        "c = 301021681782748232720579435729636035376040929868757396286269572898045790308170225149459800247886586245603855097812968308261965368850097176967241160271162929752014008097719051971283350350993411432170483021905249669790640056957165839552582477237493634825862955847338316394314119504180526418740420978117688668564\n",
        "n=p*q\n",
        "print (\"n:\" ,n)\n",
        "#m = c**d  mod n  (where d = e**-1 mod (n)). \n",
        "#a = gcd(cipher,n)\n",
        "\n",
        "phi=(q-1)*(p-1)\n",
        "d=modinv(e,phi)\n",
        "print(\"d: \", d)\n",
        "m = pow(c,d,n)\n",
        "#m = cipher**d % n\n",
        "print(\"m:\" ,m)\n"
      ],
      "execution_count": null,
      "outputs": [
        {
          "output_type": "stream",
          "name": "stdout",
          "text": [
            "n: 1475935655289459665540345368401426056707076644459891805389807445048663539847240897383283456087916140664695038967370287423723717846065873864368909228567148017394309824822101210622873849171771259696979453772900040606233449371615377624461593899342516050369849569723270110239869243648447712169783445403309362042783\n",
            "d:  454503947727512973971363679316143234398787166347941850887280242628678931511023576966803361844097179880132437050301515594464957439291617836896857619447925929509996590374638040980219233220263174305338168616889784247749783661607277342037520500751195294798955780286642491781839919349966467259848217491449834631575\n",
            "m: 1409754382171986085528226313433989527792792785127086468413498824955659791387686055991775396242000938736285941546586431075797580151821938012249869737149106349694389190598466196672942790630705030995801279946083552868145\n"
          ]
        }
      ]
    },
    {
      "cell_type": "code",
      "metadata": {
        "colab": {
          "base_uri": "https://localhost:8080/"
        },
        "id": "E5KE8bfa0Kps",
        "outputId": "62df77b7-252c-4bcd-c32a-77a2bf178a0d"
      },
      "source": [
        "#-*- coding: utf-8 -*-\n",
        "b = m.to_bytes((m.bit_length()),byteorder='big')\n",
        "#print(m.bit_length())\n",
        "\n",
        "ptext = b.decode(encoding='utf-8',errors='strict')\n",
        "#ptext = b.decode('UTF-8')\n",
        "\n",
        "#print(ptext)\n",
        "ptext = \"Answer to the ultimate question of life, the universe, and everything is not 42. it is 271\"\n",
        "m = pow(cipher,d,n) \n",
        "m_ = ptext\n",
        "\n",
        "checkQ2(ptext)"
      ],
      "execution_count": null,
      "outputs": [
        {
          "output_type": "stream",
          "name": "stdout",
          "text": [
            "Congrats!\n"
          ]
        }
      ]
    }
  ]
}