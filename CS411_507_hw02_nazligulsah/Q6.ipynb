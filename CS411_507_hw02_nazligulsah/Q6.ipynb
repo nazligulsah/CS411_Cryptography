{
  "nbformat": 4,
  "nbformat_minor": 0,
  "metadata": {
    "colab": {
      "name": "Q6.ipynb",
      "provenance": []
    },
    "kernelspec": {
      "name": "python3",
      "display_name": "Python 3"
    },
    "language_info": {
      "name": "python"
    }
  },
  "cells": [
    {
      "cell_type": "code",
      "metadata": {
        "id": "6Z9Tl_zTN4_s"
      },
      "source": [
        "import copy \n",
        "\n",
        "def LFSR(C, S):\n",
        "    L = len(S)\n",
        "    fb = 0\n",
        "    out = S[L-1]\n",
        "    for i in range(0,L):\n",
        "        fb = fb^(S[i]&C[i+1])\n",
        "    for i in range(L-1,0,-1):\n",
        "        S[i] = S[i-1]\n",
        "\n",
        "    S[0] = fb\n",
        "    return out\n",
        "\n",
        "def FindPeriod(s):\n",
        "    n = len(s)\n",
        "    for T in range(1,n+1):\n",
        "        chck = 0\n",
        "        for i in range(0,n-T-1):\n",
        "            if (s[i] != s[i+T]):\n",
        "                chck += 1\n",
        "                break\n",
        "        if chck == 0:\n",
        "            break\n",
        "    if T > n/2:\n",
        "        return n\n",
        "    else:\n",
        "        return T        \n",
        "\n",
        "def PolPrune(P):\n",
        "    n = len(P)\n",
        "    i = n-1\n",
        "    while (P[i] == 0):\n",
        "        del P[i]\n",
        "        i = i-1\n",
        "    return i\n",
        "\n",
        "def PolDeg(P):\n",
        "    n = len(P)\n",
        "    i = n-1\n",
        "    while (P[i] == 0):\n",
        "        i = i-1\n",
        "    return i\n",
        "\n",
        "# P gets Q\n",
        "def PolCopy(Q, P):\n",
        "    degP = len(P)\n",
        "    degQ = len(Q)\n",
        "    if degP >= degQ:\n",
        "        for i in range(0,degQ):\n",
        "            Q[i] = P[i]\n",
        "        for i in range(degQ, degP):\n",
        "            Q.append(P[i])\n",
        "    else: # degP < deqQ\n",
        "        for i in range(0,degP):\n",
        "            Q[i] = P[i]\n",
        "        for i in range(degP, degQ):\n",
        "            Q[i] = 0\n",
        "        PolPrune(Q)           \n",
        "\n",
        "def BM(s):\n",
        "    n = len(s)\n",
        "\n",
        "    C = []\n",
        "    B = []\n",
        "    T = []\n",
        "    L = 0\n",
        "    m = -1\n",
        "    i = 0\n",
        "    C.append(1)\n",
        "    B.append(1)\n",
        "\n",
        "    while(i<n):\n",
        "        delta = 0\n",
        "        clen = len(C)\n",
        "        for j in range(0, clen):\n",
        "            delta ^= (C[j]*s[i-j])\n",
        "        if delta == 1:\n",
        "            dif = i-m\n",
        "            PolCopy(T, C)\n",
        "            nlen = len(B)+dif\n",
        "            if(clen >= nlen):\n",
        "                for j in range(dif,nlen):\n",
        "                    C[j] = C[j] ^ B[j-dif]\n",
        "            else: # increase the degree of C\n",
        "                for j in range(clen, nlen):\n",
        "                    C.append(0)\n",
        "                for j in range(dif, nlen):\n",
        "                    C[j] = C[j] ^ B[j-dif]\n",
        "            PolPrune(C)\n",
        "            if L <= i/2:\n",
        "                L = i+1-L\n",
        "                m = i\n",
        "                PolCopy(B, T)  \n",
        "        i = i+1    \n",
        "    return L, C\n",
        "\n"
      ],
      "execution_count": null,
      "outputs": []
    },
    {
      "cell_type": "code",
      "metadata": {
        "id": "imWgXqiGd6fW"
      },
      "source": [
        "#output of BM L(sn) and C(x)\n",
        "#E(L(sn)) » n/2 + 2/9.\n",
        "def pred(L,x):\n",
        "  cal = len(x)/2 +2/9\n",
        "  if L < cal:\n",
        "    print(cal)\n",
        "    print(\"it is predictable!\")\n",
        "  else :\n",
        "    print(\"it is not predictable!\")\n",
        "  \n"
      ],
      "execution_count": null,
      "outputs": []
    },
    {
      "cell_type": "code",
      "metadata": {
        "colab": {
          "base_uri": "https://localhost:8080/"
        },
        "id": "2Ikt8lRyOBzr",
        "outputId": "74b47e34-b0e0-4de8-c974-808e50787fb3"
      },
      "source": [
        "x1 = [0, 0, 1, 0, 1, 0, 0, 0, 0, 0, 1, 0, 0, 1, 0, 1, 1, 1, 1, 1, 0, 0, 0, 1, 1, 0, 0, 0, 0, 0, 1, 0, 0, 0, 0, 1, 0, 0, 1, 0, 0, 0, 0, 0, 1, 0, 1, 0, 1, 0, 1, 1, 0, 1, 0, 1, 1, 0, 1, 1, 0, 0, 1, 0, 0, 1, 1, 0, 1, 0, 0, 1, 0, 0, 1, 1, 0, 0, 1, 1, 0, 0, 0, 0]\n",
        "print (\"\\nL1 and C(x1): \", len(x1), BM(x1))\n",
        "pred(31,x1)\n",
        "\n"
      ],
      "execution_count": null,
      "outputs": [
        {
          "output_type": "stream",
          "name": "stdout",
          "text": [
            "\n",
            "L1 and C(x1):  84 (31, [1, 0, 0, 1, 0, 0, 0, 0, 0, 0, 0, 0, 0, 0, 0, 0, 0, 0, 0, 0, 0, 0, 0, 0, 0, 0, 0, 0, 0, 0, 0, 1])\n",
            "42.22222222222222\n",
            "it is predictable!\n"
          ]
        }
      ]
    },
    {
      "cell_type": "code",
      "metadata": {
        "colab": {
          "base_uri": "https://localhost:8080/"
        },
        "id": "mz90p-VWO03d",
        "outputId": "6e690706-8572-4775-ef06-867fa730c2f7"
      },
      "source": [
        "x2 = [0, 1, 0, 0, 0, 1, 0, 1, 1, 1, 1, 0, 1, 0, 0, 0, 0, 0, 0, 1, 1, 1, 1, 1, 0, 0, 0, 1, 0, 1, 1, 0, 0, 1, 0, 0, 0, 0, 1, 1, 1, 0, 1, 0, 0, 1, 0, 0, 1, 0, 1, 0, 1, 0, 1, 1, 0, 1, 0, 0, 0, 1, 0, 0, 0, 0, 0, 0, 0, 1, 1, 1, 1, 0, 1, 1, 1, 1, 1, 0, 1, 0, 0, 0, 0, 1, 1, 0, 0, 1]\n",
        "print (\"\\nL2 and C(x2): \", len(x2), BM(x2))\n",
        "pred(31,x2)"
      ],
      "execution_count": null,
      "outputs": [
        {
          "output_type": "stream",
          "name": "stdout",
          "text": [
            "\n",
            "L2 and C(x2):  90 (31, [1, 0, 0, 1, 0, 0, 0, 0, 0, 0, 0, 0, 0, 0, 0, 0, 0, 0, 0, 0, 0, 0, 0, 0, 0, 0, 0, 0, 0, 0, 0, 1])\n",
            "45.22222222222222\n",
            "it is predictable!\n"
          ]
        }
      ]
    },
    {
      "cell_type": "code",
      "metadata": {
        "colab": {
          "base_uri": "https://localhost:8080/"
        },
        "id": "hKZ4zd17PlJJ",
        "outputId": "d8f318b6-c0eb-4f0c-92c5-ba178de8bdce"
      },
      "source": [
        "x3 = [1, 1, 1, 0, 1, 0, 1, 0, 0, 0, 1, 0, 0, 1, 1, 0, 1, 1, 0, 0, 0, 0, 0, 0, 1, 0, 0, 1, 1, 0, 0, 0, 1, 1, 0, 0, 1, 1, 0, 1, 1, 1, 1, 1, 0, 0, 1, 1, 1, 1, 1, 1, 1, 1, 1, 0, 1, 1, 1, 0, 1, 1, 0, 0, 0, 0, 0, 1, 1, 0, 0, 0, 1, 1, 1, 1, 1, 0, 0, 0, 1, 1, 1, 0, 0, 0, 0, 1, 1]\n",
        "print (\"\\nL3 and C(x3): \", len(x3), BM(x3))\n",
        "pred(31,x3)"
      ],
      "execution_count": null,
      "outputs": [
        {
          "output_type": "stream",
          "name": "stdout",
          "text": [
            "\n",
            "L3 and C(x3):  89 (31, [1, 0, 0, 1, 0, 0, 0, 0, 0, 0, 0, 0, 0, 0, 0, 0, 0, 0, 0, 0, 0, 0, 0, 0, 0, 0, 0, 0, 0, 0, 0, 1])\n",
            "44.72222222222222\n",
            "it is predictable!\n"
          ]
        }
      ]
    },
    {
      "cell_type": "code",
      "metadata": {
        "colab": {
          "base_uri": "https://localhost:8080/"
        },
        "id": "-tSlu0g-hC1G",
        "outputId": "61622535-a65e-4447-d402-b179ff7781fc"
      },
      "source": [
        "pred(31,x3)"
      ],
      "execution_count": null,
      "outputs": [
        {
          "output_type": "stream",
          "name": "stdout",
          "text": [
            "it is predictable!\n"
          ]
        }
      ]
    }
  ]
}